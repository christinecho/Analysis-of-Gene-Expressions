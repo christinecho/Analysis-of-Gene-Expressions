{
  "nbformat": 4,
  "nbformat_minor": 0,
  "metadata": {
    "colab": {
      "name": "COS 302 HW1 - Christine Cho.ipynb",
      "provenance": [],
      "collapsed_sections": [],
      "authorship_tag": "ABX9TyP3PFuCjoB4ER8ij0Ighwej",
      "include_colab_link": true
    },
    "kernelspec": {
      "name": "python3",
      "display_name": "Python 3"
    }
  },
  "cells": [
    {
      "cell_type": "markdown",
      "metadata": {
        "id": "view-in-github",
        "colab_type": "text"
      },
      "source": [
        "<a href=\"https://colab.research.google.com/github/christinecho/Analysis-of-Gene-Expressions/blob/master/COS_302_HW1_Christine_Cho.ipynb\" target=\"_parent\"><img src=\"https://colab.research.google.com/assets/colab-badge.svg\" alt=\"Open In Colab\"/></a>"
      ]
    },
    {
      "cell_type": "markdown",
      "metadata": {
        "id": "dxX9g8dxLt-I",
        "colab_type": "text"
      },
      "source": [
        "# COS 302 HW1 - Christine Cho"
      ]
    },
    {
      "cell_type": "markdown",
      "metadata": {
        "id": "F5E-jZlQMGkz",
        "colab_type": "text"
      },
      "source": [
        "## Problem 6"
      ]
    },
    {
      "cell_type": "code",
      "metadata": {
        "id": "4qgmen4CMWy5",
        "colab_type": "code",
        "outputId": "2ef5da5f-fe80-4fc3-ce29-883eb968b07a",
        "colab": {
          "base_uri": "https://localhost:8080/",
          "height": 34
        }
      },
      "source": [
        "print(\"hello world!\")"
      ],
      "execution_count": 0,
      "outputs": [
        {
          "output_type": "stream",
          "text": [
            "hello world!\n"
          ],
          "name": "stdout"
        }
      ]
    },
    {
      "cell_type": "code",
      "metadata": {
        "id": "Y0YtL0JQMYTe",
        "colab_type": "code",
        "outputId": "e2de4cfe-0e61-4443-c6d5-686dd5c5e541",
        "colab": {
          "base_uri": "https://localhost:8080/",
          "height": 34
        }
      },
      "source": [
        "course_name = \"COS 302\"\n",
        "if course_name == \"COS 302\":\n",
        "  print(\"This is super fun!\")\n",
        "else:\n",
        "  print(\"Fun, but I wish I was in COS 302.\")"
      ],
      "execution_count": 0,
      "outputs": [
        {
          "output_type": "stream",
          "text": [
            "This is super fun!\n"
          ],
          "name": "stdout"
        }
      ]
    },
    {
      "cell_type": "code",
      "metadata": {
        "id": "OfMiqsU-Ms4e",
        "colab_type": "code",
        "outputId": "3a4c5305-f246-4699-c21a-03de20d20c7e",
        "colab": {
          "base_uri": "https://localhost:8080/",
          "height": 51
        }
      },
      "source": [
        "if course_name == \"COS 302\":\n",
        "    print(\"This is super fun!\")\n",
        "    print(\"I love Python.\")\n",
        "else:\n",
        "  print(\"Fun, but I wish I was in COS 302.\")\n"
      ],
      "execution_count": 0,
      "outputs": [
        {
          "output_type": "stream",
          "text": [
            "This is super fun!\n",
            "I love Python.\n"
          ],
          "name": "stdout"
        }
      ]
    },
    {
      "cell_type": "code",
      "metadata": {
        "id": "49NZd0zTNDNL",
        "colab_type": "code",
        "outputId": "36f68fe2-81f9-45f8-a44d-ca6aab58785b",
        "colab": {
          "base_uri": "https://localhost:8080/",
          "height": 130
        }
      },
      "source": [
        "if course_name == \"COS 302\":\n",
        "  print(\"This is super fun!\")\n",
        "  print(\"I love Python.\")\n",
        "else:\n",
        "print(\"Fun, but I wish I was in COS 302.\")"
      ],
      "execution_count": 0,
      "outputs": [
        {
          "output_type": "error",
          "ename": "IndentationError",
          "evalue": "ignored",
          "traceback": [
            "\u001b[0;36m  File \u001b[0;32m\"<ipython-input-10-a2eab822adeb>\"\u001b[0;36m, line \u001b[0;32m5\u001b[0m\n\u001b[0;31m    print(\"Fun, but I wish I was in COS 302.\")\u001b[0m\n\u001b[0m        ^\u001b[0m\n\u001b[0;31mIndentationError\u001b[0m\u001b[0;31m:\u001b[0m expected an indented block\n"
          ]
        }
      ]
    },
    {
      "cell_type": "code",
      "metadata": {
        "id": "6DIxmC-kNMVm",
        "colab_type": "code",
        "outputId": "fdaca044-4001-46b6-81b5-6b58fe333b60",
        "colab": {
          "base_uri": "https://localhost:8080/",
          "height": 130
        }
      },
      "source": [
        "if course_name == \"COS 302\":\n",
        "  print(\"This is super fun!\")\n",
        "    print(\"I love Python.\")\n",
        "else:\n",
        "  print(\"Fun, but I wish I was in COS 302.\")"
      ],
      "execution_count": 0,
      "outputs": [
        {
          "output_type": "error",
          "ename": "IndentationError",
          "evalue": "ignored",
          "traceback": [
            "\u001b[0;36m  File \u001b[0;32m\"<ipython-input-11-8608006b28ba>\"\u001b[0;36m, line \u001b[0;32m3\u001b[0m\n\u001b[0;31m    print(\"I love Python.\")\u001b[0m\n\u001b[0m    ^\u001b[0m\n\u001b[0;31mIndentationError\u001b[0m\u001b[0;31m:\u001b[0m unexpected indent\n"
          ]
        }
      ]
    },
    {
      "cell_type": "markdown",
      "metadata": {
        "id": "h-rfmXQRL0ia",
        "colab_type": "text"
      },
      "source": [
        "## Problem 7"
      ]
    },
    {
      "cell_type": "code",
      "metadata": {
        "id": "90pPElvQNXS6",
        "colab_type": "code",
        "outputId": "43643c94-97f5-45f4-c72c-0f6596d30101",
        "colab": {
          "base_uri": "https://localhost:8080/",
          "height": 187
        }
      },
      "source": [
        "import math\n",
        "num_iters = 10\n",
        "f = 2\n",
        "for ii in range(num_iters):\n",
        "  f = math.log(math.fabs(f))\n",
        "  print(f)"
      ],
      "execution_count": 0,
      "outputs": [
        {
          "output_type": "stream",
          "text": [
            "0.6931471805599453\n",
            "-0.36651292058166435\n",
            "-1.00372150430231\n",
            "0.003714596637805006\n",
            "-5.595485183341199\n",
            "1.7219600553126855\n",
            "0.5434632090539631\n",
            "-0.6097932673451253\n",
            "-0.49463528524799216\n",
            "-0.7039345854609151\n"
          ],
          "name": "stdout"
        }
      ]
    },
    {
      "cell_type": "code",
      "metadata": {
        "id": "Rgg4i3VBgUlV",
        "colab_type": "code",
        "outputId": "1707f733-cb2a-4610-e2a2-c72fe49537e0",
        "colab": {
          "base_uri": "https://localhost:8080/",
          "height": 442
        }
      },
      "source": [
        "import numpy as np\n",
        "num_iters = 100\n",
        "f_values = np.empty(num_iters)\n",
        "f_values[0] = 2\n",
        "for ii in range(1, num_iters):\n",
        "  f_values[ii] = math.log(math.fabs(f_values[ii-1]))\n",
        "print(f_values)"
      ],
      "execution_count": 0,
      "outputs": [
        {
          "output_type": "stream",
          "text": [
            "[ 2.00000000e+00  6.93147181e-01 -3.66512921e-01 -1.00372150e+00\n",
            "  3.71459664e-03 -5.59548518e+00  1.72196006e+00  5.43463209e-01\n",
            " -6.09793267e-01 -4.94635285e-01 -7.03934585e-01 -3.51069846e-01\n",
            " -1.04677009e+00  4.57093139e-02 -3.08545320e+00  1.12669855e+00\n",
            "  1.19291719e-01 -2.12618337e+00  7.54328525e-01 -2.81927296e-01\n",
            " -1.26610606e+00  2.35946093e-01 -1.44415192e+00  3.67522242e-01\n",
            " -1.00097144e+00  9.70967451e-04 -6.93721761e+00  1.93690077e+00\n",
            "  6.61089156e-01 -4.13866567e-01 -8.82211658e-01 -1.25323276e-01\n",
            " -2.07685867e+00  7.30856497e-01 -3.13538150e-01 -1.15983424e+00\n",
            "  1.48277096e-01 -1.90867249e+00  6.46407967e-01 -4.36324446e-01\n",
            " -8.29369170e-01 -1.87089903e-01 -1.67616601e+00  5.16509050e-01\n",
            " -6.60662469e-01 -4.14512207e-01 -8.80652856e-01 -1.27091765e-01\n",
            " -2.06284589e+00  7.24086532e-01 -3.22844375e-01 -1.13058488e+00\n",
            "  1.22735095e-01 -2.09772695e+00  7.40854353e-01 -2.99951227e-01\n",
            " -1.20413539e+00  1.85761794e-01 -1.68329011e+00  5.20750274e-01\n",
            " -6.52484672e-01 -4.26967631e-01 -8.51047073e-01 -1.61287837e-01\n",
            " -1.82456470e+00  6.01341440e-01 -5.08592386e-01 -6.76108397e-01\n",
            " -3.91401866e-01 -9.38020457e-01 -6.39835210e-02 -2.74912971e+00\n",
            "  1.01128439e+00  1.12212000e-02 -4.48995043e+00  1.50184166e+00\n",
            "  4.06692129e-01 -8.99698819e-01 -1.05695217e-01 -2.24719564e+00\n",
            "  8.09683054e-01 -2.11112399e-01 -1.55536459e+00  4.41709982e-01\n",
            " -8.17101761e-01 -2.01991638e-01 -1.59952898e+00  4.69709198e-01\n",
            " -7.55641504e-01 -2.80188216e-01 -1.27229370e+00  2.40821334e-01\n",
            " -1.42369997e+00  3.53259097e-01 -1.04055351e+00  3.97527895e-02\n",
            " -3.22507527e+00  1.17095629e+00  1.57820755e-01 -1.84629535e+00]\n"
          ],
          "name": "stdout"
        }
      ]
    },
    {
      "cell_type": "code",
      "metadata": {
        "id": "7P6rz46EiDSj",
        "colab_type": "code",
        "outputId": "a2489bc1-cff9-4f68-b2a3-4b1c7a3f67e7",
        "colab": {
          "base_uri": "https://localhost:8080/",
          "height": 282
        }
      },
      "source": [
        "%matplotlib inline\n",
        "\n",
        "import matplotlib.pyplot as plt\n",
        "plt.plot(f_values, '.')"
      ],
      "execution_count": 0,
      "outputs": [
        {
          "output_type": "execute_result",
          "data": {
            "text/plain": [
              "[<matplotlib.lines.Line2D at 0x7fd24d43c4e0>]"
            ]
          },
          "metadata": {
            "tags": []
          },
          "execution_count": 6
        },
        {
          "output_type": "display_data",
          "data": {
            "image/png": "[encoded data removed]",
            "text/plain": [
              "<Figure size 432x288 with 1 Axes>"
            ]
          },
          "metadata": {
            "tags": []
          }
        }
      ]
    }
  ]
}